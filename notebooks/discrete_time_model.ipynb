{
 "cells": [
  {
   "cell_type": "markdown",
   "metadata": {},
   "source": [
    "# Modeling the COVID-19 spread"
   ]
  },
  {
   "cell_type": "code",
   "execution_count": 3,
   "metadata": {},
   "outputs": [],
   "source": [
    "from functools import lru_cache\n",
    "from random import randint, random, uniform\n",
    "import datetime\n",
    "\n",
    "import pandas as pd\n",
    "import numpy as np\n",
    "from statsmodels.nonparametric.kernel_regression import KernelReg\n",
    "import matplotlib.pyplot as plt\n",
    "import matplotlib.colors as colors\n",
    "import tqdm"
   ]
  },
  {
   "cell_type": "markdown",
   "metadata": {},
   "source": [
    "## The model"
   ]
  },
  {
   "cell_type": "markdown",
   "metadata": {},
   "source": [
    "We model the spread of the disease in the following manner. The disease may be transmitted from those who are already sick $S_t$, to those that are \"well\" $W_t$, or susceptible to the disease. The rate of transmission/infection is determined by the number of sick people who a \"well\" person is in contact with on a daily basis $\\bar{N}_{s,t}$, and the individual probability of infection $p_i$. Once a patient has become sick, their sickness lasts for a fixed period $T$, and at the end of this period, they either recover and become immune $I_t$, or die $D_t$. In mathematical terms, it is described by the following discrete time model:"
   ]
  },
  {
   "cell_type": "markdown",
   "metadata": {},
   "source": [
    "$$\n",
    "\\begin{align}\n",
    "S_t &= S_{t-1} + \\dot{S}_{t} - \\dot{S}_{t-T} \\qquad \\text{(number of sick people)} \\\\\n",
    "\\dot{S}_t &= RI_{t-1} W_{t-1} \\qquad \\text{(number of people infected at time $t$)} \\\\\n",
    "W_t &= W_{t-1} - \\dot{S}_{t} \\qquad \\text{(number of 'well' people; haven't got sick yet but don't have immunity)} \\\\\n",
    "RI_t &= 1 - (1 - p_i)^{\\bar{N}_{s,t}} \\qquad \\text{(rate/probability of infection)} \\\\\n",
    "\\bar{N}_{s,t} &= \\bar{N} (1-q) S_t / P_0 \\qquad \\text{(avg. # of sick people in contact with daily)} \\\\\n",
    "I_t &= I_{t-1} + (1-p_D) \\dot{S}_{t-T} \\qquad \\text{(number of people with immunity)} \\\\\n",
    "D_t &= D_{t-1} + p_D \\dot{S}_{t-T} \\qquad \\text{(number of people dead)}\n",
    "\\end{align}\n",
    "$$"
   ]
  },
  {
   "cell_type": "markdown",
   "metadata": {},
   "source": [
    "Where we define parameters $T$ = \"duration of sickness\", $p_i$ = \"probability of infection\", $p_D$ = \"probability of death\", $q$ = \"fraction of sick quarantined\", $\\bar{N}$ = \"avg. # of people in contact with daily (in absence of epidemic)\", and $P_0$ = \"initial (total) population\". There are also boundary/initial conditions that must be specified. We define $S_0$ = \"initial number sick\", $f_{imm}$ = \"initial fraction of population immune\", such that"
   ]
  },
  {
   "cell_type": "markdown",
   "metadata": {},
   "source": [
    "$$\n",
    "\\begin{align}\n",
    "S_t &= S_0 \\exp(t/T); \\quad t = 0, -1, \\cdots, -T \\\\\n",
    "\\dot{S}_t &= S_t - S_{t-1}; \\quad t = 0, -1, \\cdots, -(T-1) \\\\\n",
    "\\dot{S}_{-T} &= 0 \\\\\n",
    "W_0 &= (P_0 - S_0) (1 - f_{imm}) \\\\\n",
    "I_0 &= (P_0 - S_0) f_{imm} \\\\\n",
    "D_0 &= 0\n",
    "\\end{align}\n",
    "$$"
   ]
  },
  {
   "cell_type": "markdown",
   "metadata": {},
   "source": [
    "## Numerical solution"
   ]
  },
  {
   "cell_type": "code",
   "execution_count": 23,
   "metadata": {},
   "outputs": [],
   "source": [
    "def model(*, T: int, pi: float, pD: float, q: float, Nbar: float, P0: float, S0: float, f_imm: float):\n",
    "    \"\"\"\n",
    "    Arguments:\n",
    "        T (int): duration of sickness\n",
    "        pi (float): probability of infection; 0 <= pi <= 1\n",
    "        pD (float): probability of death; 0 <= pD <= 1\n",
    "        q (float): fraction of sick quarantined; 0 <= q <= 1\n",
    "        Nbar (float/int): avg # of people in daily contact with\n",
    "        P0 (float/int): initial (total) population\n",
    "        S0 (float/int): initial # of sick\n",
    "        f_imm (float): fraction of population with initial immunity; 0 <= f_imm <= 1\n",
    "    Returns:\n",
    "        W(t) (func): number of well people\n",
    "        S(t) (func): number of sick people\n",
    "        I(t) (func): number of immune people\n",
    "        D(t) (func): number of dead people\n",
    "        Sdot(t) (func): number of people infected on day t\n",
    "        RI(t) (func): rate of infection on day t\n",
    "    \"\"\"\n",
    "\n",
    "    # Define functions\n",
    "\n",
    "    @lru_cache(maxsize=None)\n",
    "    def S(t):\n",
    "        if t < -T:\n",
    "            raise ValueError\n",
    "        elif t <= 0:\n",
    "            return S0*np.exp(t/T)\n",
    "        return S(t-1) + Sdot(t) - Sdot(t-T)\n",
    "\n",
    "    @lru_cache(maxsize=None)\n",
    "    def Sdot(t):\n",
    "        if t < -T:\n",
    "            raise ValueError\n",
    "        elif t == -T:\n",
    "            return 0\n",
    "        elif t <= 0:\n",
    "            return S(t) - S(t-1)\n",
    "        return RI(t-1) * W(t-1)\n",
    "\n",
    "    @lru_cache(maxsize=None)\n",
    "    def W(t):\n",
    "        if t < 0:\n",
    "            raise ValueError\n",
    "        elif t == 0:\n",
    "            return (P0 - S0) * (1 - f_imm)\n",
    "        return W(t-1) - Sdot(t)\n",
    "\n",
    "    def RI(t):\n",
    "        NbarS = Nbar * (1-q) * S(t) / P0\n",
    "        return 1 - (1 - pi)**NbarS\n",
    "\n",
    "    @lru_cache(maxsize=None)\n",
    "    def I(t):\n",
    "        if t < 0:\n",
    "            raise ValueError\n",
    "        elif t == 0:\n",
    "            return (P0 - S0) * f_imm\n",
    "        return I(t-1) + (1-pD) * Sdot(t-T)\n",
    "\n",
    "    @lru_cache(maxsize=None)\n",
    "    def D(t):\n",
    "        if t <= 0:\n",
    "            return 0\n",
    "        return D(t-1) + pD * Sdot(t-T)\n",
    "    \n",
    "    return W, S, I, D, Sdot, RI"
   ]
  },
  {
   "cell_type": "markdown",
   "metadata": {},
   "source": [
    "## Application to influenza-like disease"
   ]
  },
  {
   "cell_type": "markdown",
   "metadata": {},
   "source": [
    "In order to test this model, we will try it out using parameters for a disease similar to the flu. From some quick searching, I found that the flu usually is asymptomatic for 1-4 days, and symptomatic for 5-7, for a total duration of 6-11 days [[source]](https://www.health.harvard.edu/staying-healthy/how-long-does-the-flu-last) (average 8.5 days). Flu vaccination coverage in the 2017-2018 season was about 37.1% [[source]](https://www.cdc.gov/flu/fluvaxview/coverage-1718estimates.htm), so roughly that many people have a starting immunity. The estimated number of people who contracted the flu was 44.8M, and the number that died from it was 61k [[source]](https://www.cdc.gov/flu/about/burden/2017-2018.htm), for an overall probability of death of 0.14%. The population of the United States in 2017 was 326M, and most adult-aged people are normally in close contact with a little over 20 people/day [[source]](https://www.researchgate.net/figure/Daily-average-number-of-contacts-per-person-in-age-group-j-The-average-number-of_fig2_228649013). Shockingly, roughly 25% of Americans either don't recieve sick days off or don't use them at all, and the another 40-60% only use them sparingly [[source]](https://farahandfarah.com/studies/sick-days-in-america/) (based on this, and the fact that the flu is asymptomatic for roughly 1/3 of its duration, I'll assume roughly 50% of people appropriately self-quarantine when sick then).\n",
    "\n",
    "As for the other parameters ($p_i$, $S_0$), I'm just going to assume that we start with about 1000 people infected ($S_0$=1000), and tune $p_i$ until the number of total deaths is within the uncertainty bounds for the 2017-2018 season (46k-95k)."
   ]
  },
  {
   "cell_type": "code",
   "execution_count": 24,
   "metadata": {},
   "outputs": [],
   "source": [
    "W, S, I, D, _, _ = model(\n",
    "    T=9, pi=0.020, pD=0.0014, q=0.50, Nbar=20, P0=326e6, S0=1e3, f_imm=0.371)"
   ]
  },
  {
   "cell_type": "code",
   "execution_count": 25,
   "metadata": {},
   "outputs": [
    {
     "data": {
      "image/png": "[encoded data removed]",
      "text/plain": [
       "<Figure size 720x360 with 1 Axes>"
      ]
     },
     "metadata": {
      "needs_background": "light"
     },
     "output_type": "display_data"
    }
   ],
   "source": [
    "Tmax = 500\n",
    "fig, ax = plt.subplots(1, figsize=(10, 5))\n",
    "for func, label in zip([W, S, I, D], [\"well\", \"sick\", \"immune\", \"dead\"]):\n",
    "    plt.plot([func(t) for t in range(Tmax)], label=label)\n",
    "plt.ylim(bottom=1, top=500e6)\n",
    "plt.xlabel(\"Time [days]\")\n",
    "plt.ylabel(\"Population size [people]\")\n",
    "plt.title(\"Evolution of common influenza-like disease\")\n",
    "plt.legend()\n",
    "plt.yscale(\"log\")\n",
    "plt.show()"
   ]
  },
  {
   "cell_type": "markdown",
   "metadata": {},
   "source": [
    "I find that for a person-to-person infection probability of about $p_i$=2.0%, we end up with about 69k deaths over the course of a year, which is fairly close to the actual number. The number of people sickened by this disease is about 49M, which is within the CDC's uncertainty interval (39M-58M), and at its peak, the number of infected people was 3M and deaths/day is about 500. It seems that these estimates are a little on the high side of things, but they look pretty realistic."
   ]
  },
  {
   "cell_type": "code",
   "execution_count": 26,
   "metadata": {},
   "outputs": [
    {
     "name": "stdout",
     "output_type": "stream",
     "text": [
      "Total # deaths: 68,866\n",
      "# of people sickened: 49,237,633\n",
      "Peak # of people infected: 3,064,399\n",
      "Peak # deaths/day: 477\n"
     ]
    }
   ],
   "source": [
    "print(f\"Total # deaths: {int(D(Tmax)):,}\")\n",
    "print(f\"# of people sickened: {int(I(Tmax) - I(0) + S(Tmax) + D(Tmax)):,}\")\n",
    "print(f\"Peak # of people infected: {int(max(S(t) for t in range(Tmax))):,}\")\n",
    "print(f\"Peak # deaths/day: {int(max(D(t) - D(t-1) for t in range(Tmax))):,}\")"
   ]
  },
  {
   "cell_type": "markdown",
   "metadata": {},
   "source": [
    "## Application to COVID-19"
   ]
  },
  {
   "cell_type": "markdown",
   "metadata": {},
   "source": [
    "Now we want to see what the effect of a disease similar to COVID-19 has. Many factors are undetermined at this point, but the main differences between influenza and the coronavirus appear to be:\n",
    "\n",
    "* The duration of the disease is much longer. Symptoms don't appear until 2-14 days after exposure [[source]](https://www.cdc.gov/coronavirus/2019-ncov/about/symptoms.html)\n",
    "* The duration of symptoms is much harder to ascertain, but 1-2 weeks seems to be the rule of thumb\n",
    "* The disease is much more deadly; the WHO estimates that 3.4% of cases have died thus far [[source]](https://www.who.int/dg/speeches/detail/who-director-general-s-opening-remarks-at-the-media-briefing-on-covid-19---3-march-2020)\n",
    "* Since this disease is caused by a _novel_ coronavirus, no one has any natural immunity\n",
    "* It _appears_ to be more easily transmissible than the flu\n",
    "* Because of the large media attention, it is likely that more people will choose to self-quarantine, or take preventative measures to avoid interacting with others\n",
    "    * However, because of the 2-14 day incubation period before symptoms appear, patients could go much longer periods of time before realizing they should self-quarantine\n",
    "\n",
    "Based on these observations, I will use the following model parameters:"
   ]
  },
  {
   "cell_type": "code",
   "execution_count": 41,
   "metadata": {},
   "outputs": [],
   "source": [
    "W, S, I, D, _, _ = model(\n",
    "    T=15, pi=0.03, pD=0.034, q=0.5, Nbar=10, P0=326e6, S0=1300, f_imm=0)"
   ]
  },
  {
   "cell_type": "code",
   "execution_count": 42,
   "metadata": {},
   "outputs": [
    {
     "data": {
      "image/png": "[encoded data removed]",
      "text/plain": [
       "<Figure size 720x360 with 1 Axes>"
      ]
     },
     "metadata": {
      "needs_background": "light"
     },
     "output_type": "display_data"
    }
   ],
   "source": [
    "Tmax = 200\n",
    "today = datetime.datetime.now()\n",
    "days = pd.date_range(today, today + pd.Timedelta(Tmax-1, 'D'))\n",
    "fig, ax = plt.subplots(1, figsize=(10, 5))\n",
    "for func, label in zip([W, S, I, D], [\"well\", \"sick\", \"immune\", \"dead\"]):\n",
    "    plt.plot(days, [func(t) for t in range(Tmax)], label=label)\n",
    "plt.ylim(bottom=1, top=500e6)\n",
    "plt.xlabel(\"Time [days]\")\n",
    "plt.ylabel(\"Population size [people]\")\n",
    "plt.title(\"Evolution of COVID-19-like disease\")\n",
    "plt.legend()\n",
    "plt.yscale(\"log\")\n",
    "plt.show()"
   ]
  },
  {
   "cell_type": "markdown",
   "metadata": {},
   "source": [
    "We can see that the number of sick $S_t$ grows exponentially until the ratio of immune to the total population $I_t/P_0$ becomes significant (~23%), at which point herd immunity starts to suppress new infections. Because we are starting with no immunity and no vaccination, the disease is initially allowed to grow exponentially; unlike the flu, which has a starting immunity of about 40%.\n",
    "\n",
    "I find that for a slightly larger person-to-person infection probability of about $p_i$=3%, we end up with a staggering 9.5M deaths over the course of the coming months. The number of people sickened by this disease is about 280M, which is just short of the entire population of the United States! At its peak, the number of infected people will be 120M and deaths/day a grueling 290k. All this will occur over the course of the next 5-6 months, with infections peaking in late June or early July. If this is true, the repercussions could be truly horrendous."
   ]
  },
  {
   "cell_type": "code",
   "execution_count": 43,
   "metadata": {},
   "outputs": [
    {
     "name": "stdout",
     "output_type": "stream",
     "text": [
      "Total # deaths: 9,528,659\n",
      "# of people sickened: 280,261,350\n",
      "Peak # of people infected: 120,155,924\n",
      "Peak # deaths/day: 291,066\n",
      "Fraction immune/recovered at the peak of infection: 23.1%\n"
     ]
    }
   ],
   "source": [
    "print(f\"Total # deaths: {int(D(Tmax)):,}\")\n",
    "print(f\"# of people sickened: {int(I(Tmax) - I(0) + S(Tmax) + D(Tmax)):,}\")\n",
    "print(f\"Peak # of people infected: {int(max(S(t) for t in range(Tmax))):,}\")\n",
    "print(f\"Peak # deaths/day: {int(max(D(t) - D(t-1) for t in range(Tmax))):,}\")\n",
    "print(f\"Fraction immune/recovered at the peak of infection: {100*I(np.argmax([S(t) for t in range(Tmax)]))/326e6:.1f}%\")"
   ]
  },
  {
   "cell_type": "markdown",
   "metadata": {},
   "source": [
    "It should be noted that the exact numbers are highly dependent on the parameters used in the model. For example, if I use a more conservative estimate of $p_i$=2%, the number of deaths falls to 6.5M. If the death rate turns out to be closer to $p_D$=1%, then the number of deaths falls to 2.8M. If people take even further preventative measures and only interact with $\\bar{N}$=5 people/day on average, then the deaths fall even further to 1.9M."
   ]
  },
  {
   "cell_type": "markdown",
   "metadata": {},
   "source": [
    "## Meta-simulation"
   ]
  },
  {
   "cell_type": "markdown",
   "metadata": {},
   "source": [
    "I'm going to randomly generate a bunch of parameters and create a simulation for each set, then analyze all the sets from a statistical point of view."
   ]
  },
  {
   "cell_type": "code",
   "execution_count": 9,
   "metadata": {},
   "outputs": [
    {
     "name": "stderr",
     "output_type": "stream",
     "text": [
      "100%|██████████| 100000/100000 [02:59<00:00, 556.48it/s]\n"
     ]
    }
   ],
   "source": [
    "results_df = list()\n",
    "for _ in tqdm.tqdm(range(100_000)):\n",
    "    # Specify model parameter priors\n",
    "    T = randint(5, 30)\n",
    "    pi = uniform(0, 0.1)\n",
    "    pD = uniform(0, 0.05)\n",
    "    q = random()\n",
    "    Nbar = randint(1, 30)\n",
    "    f_imm = uniform(0, 0.1)\n",
    "    W, S, I, D, Sdot, _ = model(\n",
    "        T=T, pi=pi, pD=pD, q=q, Nbar=Nbar, P0=326e6, S0=1, f_imm=f_imm)\n",
    "    # Run simulation to completion\n",
    "    t = 100\n",
    "    peak_infected, peak_deaths = 0, 0\n",
    "    t_peak = 0\n",
    "    while S(t) > 1:\n",
    "        peak_infected = max(peak_infected, S(t))\n",
    "        deaths = D(t) - D(t-1)\n",
    "        if deaths > peak_deaths:\n",
    "            peak_deaths = deaths\n",
    "            t_peak = t\n",
    "        I(t)\n",
    "        t += 1\n",
    "    # Save data to dataframe\n",
    "    results_df.append({\n",
    "        \"duration\": T,\n",
    "        \"prob_infection\": pi,\n",
    "        \"prob_death\": pD,\n",
    "        \"quarantine_frac\": q,\n",
    "        \"avg_contacts\": Nbar,\n",
    "        \"immune_frac\": f_imm,\n",
    "        \"total_deaths\": D(t),\n",
    "        \"total_infected\": I(t) + S(t) + D(t) - I(0),\n",
    "        \"total_never_infected\": W(t),\n",
    "        \"peak_deaths\": peak_deaths,\n",
    "        \"peak_infected\": peak_infected,\n",
    "        \"t_peak\": t_peak,\n",
    "        \"t_max\": t\n",
    "    })\n",
    "results_df = pd.DataFrame(results_df)"
   ]
  },
  {
   "cell_type": "code",
   "execution_count": 10,
   "metadata": {},
   "outputs": [
    {
     "data": {
      "text/html": [
       "<div>\n",
       "<style scoped>\n",
       "    .dataframe tbody tr th:only-of-type {\n",
       "        vertical-align: middle;\n",
       "    }\n",
       "\n",
       "    .dataframe tbody tr th {\n",
       "        vertical-align: top;\n",
       "    }\n",
       "\n",
       "    .dataframe thead th {\n",
       "        text-align: right;\n",
       "    }\n",
       "</style>\n",
       "<table border=\"1\" class=\"dataframe\">\n",
       "  <thead>\n",
       "    <tr style=\"text-align: right;\">\n",
       "      <th></th>\n",
       "      <th>duration</th>\n",
       "      <th>prob_infection</th>\n",
       "      <th>prob_death</th>\n",
       "      <th>quarantine_frac</th>\n",
       "      <th>avg_contacts</th>\n",
       "      <th>immune_frac</th>\n",
       "      <th>total_deaths</th>\n",
       "      <th>total_infected</th>\n",
       "      <th>total_never_infected</th>\n",
       "      <th>peak_deaths</th>\n",
       "      <th>peak_infected</th>\n",
       "      <th>t_peak</th>\n",
       "      <th>t_max</th>\n",
       "    </tr>\n",
       "  </thead>\n",
       "  <tbody>\n",
       "    <tr>\n",
       "      <th>0</th>\n",
       "      <td>22</td>\n",
       "      <td>0.086007</td>\n",
       "      <td>0.040524</td>\n",
       "      <td>0.883416</td>\n",
       "      <td>30</td>\n",
       "      <td>0.056618</td>\n",
       "      <td>1.244450e+07</td>\n",
       "      <td>3.070885e+08</td>\n",
       "      <td>4.539216e+05</td>\n",
       "      <td>815808.877887</td>\n",
       "      <td>1.055087e+08</td>\n",
       "      <td>100</td>\n",
       "      <td>166</td>\n",
       "    </tr>\n",
       "    <tr>\n",
       "      <th>1</th>\n",
       "      <td>8</td>\n",
       "      <td>0.089998</td>\n",
       "      <td>0.040563</td>\n",
       "      <td>0.125583</td>\n",
       "      <td>27</td>\n",
       "      <td>0.049065</td>\n",
       "      <td>1.257470e+07</td>\n",
       "      <td>3.100048e+08</td>\n",
       "      <td>1.364975e+01</td>\n",
       "      <td>0.000000</td>\n",
       "      <td>0.000000e+00</td>\n",
       "      <td>0</td>\n",
       "      <td>100</td>\n",
       "    </tr>\n",
       "    <tr>\n",
       "      <th>2</th>\n",
       "      <td>27</td>\n",
       "      <td>0.037348</td>\n",
       "      <td>0.024262</td>\n",
       "      <td>0.180545</td>\n",
       "      <td>25</td>\n",
       "      <td>0.000610</td>\n",
       "      <td>7.904478e+06</td>\n",
       "      <td>3.258011e+08</td>\n",
       "      <td>2.370893e-01</td>\n",
       "      <td>0.000000</td>\n",
       "      <td>0.000000e+00</td>\n",
       "      <td>0</td>\n",
       "      <td>100</td>\n",
       "    </tr>\n",
       "    <tr>\n",
       "      <th>3</th>\n",
       "      <td>9</td>\n",
       "      <td>0.041960</td>\n",
       "      <td>0.011170</td>\n",
       "      <td>0.620541</td>\n",
       "      <td>26</td>\n",
       "      <td>0.067392</td>\n",
       "      <td>3.286760e+06</td>\n",
       "      <td>2.942362e+08</td>\n",
       "      <td>9.793894e+06</td>\n",
       "      <td>46.080744</td>\n",
       "      <td>9.264522e+03</td>\n",
       "      <td>100</td>\n",
       "      <td>126</td>\n",
       "    </tr>\n",
       "    <tr>\n",
       "      <th>4</th>\n",
       "      <td>18</td>\n",
       "      <td>0.015406</td>\n",
       "      <td>0.014994</td>\n",
       "      <td>0.239510</td>\n",
       "      <td>25</td>\n",
       "      <td>0.049639</td>\n",
       "      <td>4.614664e+06</td>\n",
       "      <td>3.077637e+08</td>\n",
       "      <td>2.054050e+06</td>\n",
       "      <td>292894.690282</td>\n",
       "      <td>1.179410e+08</td>\n",
       "      <td>100</td>\n",
       "      <td>171</td>\n",
       "    </tr>\n",
       "  </tbody>\n",
       "</table>\n",
       "</div>"
      ],
      "text/plain": [
       "   duration  prob_infection  prob_death  quarantine_frac  avg_contacts  \\\n",
       "0        22        0.086007    0.040524         0.883416            30   \n",
       "1         8        0.089998    0.040563         0.125583            27   \n",
       "2        27        0.037348    0.024262         0.180545            25   \n",
       "3         9        0.041960    0.011170         0.620541            26   \n",
       "4        18        0.015406    0.014994         0.239510            25   \n",
       "\n",
       "   immune_frac  total_deaths  total_infected  total_never_infected  \\\n",
       "0     0.056618  1.244450e+07    3.070885e+08          4.539216e+05   \n",
       "1     0.049065  1.257470e+07    3.100048e+08          1.364975e+01   \n",
       "2     0.000610  7.904478e+06    3.258011e+08          2.370893e-01   \n",
       "3     0.067392  3.286760e+06    2.942362e+08          9.793894e+06   \n",
       "4     0.049639  4.614664e+06    3.077637e+08          2.054050e+06   \n",
       "\n",
       "     peak_deaths  peak_infected  t_peak  t_max  \n",
       "0  815808.877887   1.055087e+08     100    166  \n",
       "1       0.000000   0.000000e+00       0    100  \n",
       "2       0.000000   0.000000e+00       0    100  \n",
       "3      46.080744   9.264522e+03     100    126  \n",
       "4  292894.690282   1.179410e+08     100    171  "
      ]
     },
     "execution_count": 10,
     "metadata": {},
     "output_type": "execute_result"
    }
   ],
   "source": [
    "results_df.head()"
   ]
  },
  {
   "cell_type": "markdown",
   "metadata": {},
   "source": [
    "The typical number of deaths is fairly large, on the order of 10M. An extremely large fraction of people in the United States will become infected, on the order of 100M ($\\sim 30\\%$) or more."
   ]
  },
  {
   "cell_type": "code",
   "execution_count": 13,
   "metadata": {},
   "outputs": [
    {
     "data": {
      "image/png": "[encoded data removed]",
      "text/plain": [
       "<Figure size 432x288 with 1 Axes>"
      ]
     },
     "metadata": {
      "needs_background": "light"
     },
     "output_type": "display_data"
    }
   ],
   "source": [
    "mask = (\n",
    "    (results_df['immune_frac'] < 0.01)\n",
    "    & (results_df['prob_death'].between(0.01, 0.04))\n",
    "    & (results_df['t_peak']>0)\n",
    "    & (results_df['quarantine_frac'].between(0.5, 0.9))\n",
    ")\n",
    "df = results_df[mask]\n",
    "x = df['total_deaths'].values\n",
    "bins = np.geomspace(1e6, 326e6, 20)\n",
    "plt.xscale('log')\n",
    "# bins = np.linspace(0, 326e6, 100)\n",
    "# plt.xscale('linear')\n",
    "plt.hist(x, bins=bins, label='deaths', alpha=0.5)\n",
    "x = df['total_infected'].values\n",
    "plt.hist(x, bins=bins, label='infections', alpha=0.5)\n",
    "plt.axvline(326e6, color='black', linestyle='--')\n",
    "plt.xlabel(\"Number of people\")\n",
    "plt.ylabel(\"Count/bin\")\n",
    "plt.title(\"Distribution of number of deaths/infections\")\n",
    "plt.legend()\n",
    "plt.show()"
   ]
  },
  {
   "cell_type": "markdown",
   "metadata": {},
   "source": [
    "Is there anything that we can do to stop this disease? Most of the model parameters are beyond our control (like $p_D$, $T$, etc.), but some of them can be influenced by public policy and social behavior, such as quarantine effectiveness and limiting contact with other people. Here is how the death rate would change as a function of $q$ and $\\bar{N}$:"
   ]
  },
  {
   "cell_type": "code",
   "execution_count": 15,
   "metadata": {},
   "outputs": [
    {
     "data": {
      "image/png": "[encoded data removed]",
      "text/plain": [
       "<Figure size 720x360 with 2 Axes>"
      ]
     },
     "metadata": {
      "needs_background": "light"
     },
     "output_type": "display_data"
    }
   ],
   "source": [
    "# Get data\n",
    "mask = (\n",
    "    (results_df['immune_frac'] < 0.01)\n",
    "    & (results_df['prob_death'].between(0.01, 0.04))\n",
    "    & (results_df['quarantine_frac'].between(0.5, 1))\n",
    ")\n",
    "x, y, z = results_df[mask][['quarantine_frac','avg_contacts','total_deaths']].values.T\n",
    "bw = [(xx.max()-xx.min())/50 for xx in [x, y]]\n",
    "reg = KernelReg(np.log10(z), [x, y], var_type='cc', reg_type='lc', bw=bw)\n",
    "xi = np.linspace(x.min(), x.max(), 100)\n",
    "yi = np.linspace(y.min(), y.max(), 100)\n",
    "XI, YI = np.meshgrid(xi, yi)\n",
    "ZI, _ = reg.fit([XI.flatten(), YI.flatten()])\n",
    "ZI = 10**ZI.reshape(XI.shape)\n",
    "ZI[ZI<1] = 0.1\n",
    "\n",
    "# Make figures\n",
    "fig = plt.figure(figsize=(10, 5))\n",
    "levels = [10**n for n in range(-1, 8)]\n",
    "plt.contourf(XI, YI, ZI, levels=levels, norm=colors.LogNorm())\n",
    "# plt.scatter(x, y, c=z, s=15, alpha=1, zorder=10, edgecolor='black', norm=colors.LogNorm())\n",
    "cbar = plt.colorbar()\n",
    "plt.xlim(left=x.min(), right=x.max())\n",
    "plt.ylim(bottom=y.min(), top=y.max())\n",
    "plt.xlabel(\"Fraction of sick quarantined\")\n",
    "plt.ylabel(\"Avg. # contacts\")\n",
    "plt.title(\"Total number of deaths\")\n",
    "plt.show()"
   ]
  },
  {
   "cell_type": "markdown",
   "metadata": {},
   "source": [
    "We can see that the best possible course of action is to institute a strong quarantine of the sick ($q > 90\\%$), but I belive this is incredibly unlikely considering the lack of testing kits, long period of asymptomatic infection, inability of most Americans to take sick days off work, and lackluster government response thus far. It is probably more feasible at this point to intentionally limit your contact with others ($\\bar{N} > 5$). You should definitely not attend any large gatherings/festivals/events."
   ]
  },
  {
   "cell_type": "markdown",
   "metadata": {},
   "source": [
    "## Conclusion"
   ]
  },
  {
   "cell_type": "markdown",
   "metadata": {},
   "source": [
    "Based on the above analysis, it seems that COVID-19 will be much more deadly overall than the seasonal flu. It appears that the only way to avoid millions of deaths is to take extreme preventative/quarantine measures, and severely limit your contact with others. Work from home if possible until the disease has been contained. Unfortunately for most Americans, sick leave is either inflexible or nonexistent, and this will greatly hamper quarantine efforts once the virus has spread to a sizable fraction of the population.\n",
    "\n",
    "It should be once again stressed that I am not an epidemiologist; I don't have any formal training in modeling the spread of diseases. I have tried to make these calculations as realistic as possible, but cannot guarantee their accuracy in any way. Please listen to any directions from the CDC or WHO, and try not to panic."
   ]
  }
 ],
 "metadata": {
  "kernelspec": {
   "display_name": "Python 3",
   "language": "python",
   "name": "python3"
  },
  "language_info": {
   "codemirror_mode": {
    "name": "ipython",
    "version": 3
   },
   "file_extension": ".py",
   "mimetype": "text/x-python",
   "name": "python",
   "nbconvert_exporter": "python",
   "pygments_lexer": "ipython3",
   "version": "3.7.5"
  }
 },
 "nbformat": 4,
 "nbformat_minor": 4
}
